{
 "cells": [
  {
   "cell_type": "code",
   "execution_count": 11,
   "id": "abe91c62",
   "metadata": {},
   "outputs": [
    {
     "name": "stdout",
     "output_type": "stream",
     "text": [
      "Requirement already satisfied: factor_analyzer in c:\\anaconda\\lib\\site-packages (0.4.0)\n",
      "Requirement already satisfied: scipy in c:\\anaconda\\lib\\site-packages (from factor_analyzer) (1.6.2)\n",
      "Requirement already satisfied: scikit-learn in c:\\anaconda\\lib\\site-packages (from factor_analyzer) (0.24.1)\n",
      "Requirement already satisfied: numpy in c:\\anaconda\\lib\\site-packages (from factor_analyzer) (1.20.1)\n",
      "Requirement already satisfied: pandas in c:\\anaconda\\lib\\site-packages (from factor_analyzer) (1.2.4)\n",
      "Requirement already satisfied: pytz>=2017.3 in c:\\anaconda\\lib\\site-packages (from pandas->factor_analyzer) (2021.1)\n",
      "Requirement already satisfied: python-dateutil>=2.7.3 in c:\\anaconda\\lib\\site-packages (from pandas->factor_analyzer) (2.8.1)\n",
      "Requirement already satisfied: six>=1.5 in c:\\anaconda\\lib\\site-packages (from python-dateutil>=2.7.3->pandas->factor_analyzer) (1.15.0)\n",
      "Requirement already satisfied: threadpoolctl>=2.0.0 in c:\\anaconda\\lib\\site-packages (from scikit-learn->factor_analyzer) (2.1.0)\n",
      "Requirement already satisfied: joblib>=0.11 in c:\\anaconda\\lib\\site-packages (from scikit-learn->factor_analyzer) (1.0.1)\n"
     ]
    }
   ],
   "source": [
    "import warnings\n",
    "warnings.filterwarnings('ignore')\n",
    "import numpy as np\n",
    "import pandas as pd\n",
    "import matplotlib.pyplot as plt\n",
    "import seaborn as sns\n",
    "!pip install factor_analyzer\n",
    "from factor_analyzer import FactorAnalyzer\n",
    "from factor_analyzer.factor_analyzer import calculate_bartlett_sphericity\n",
    "from factor_analyzer.factor_analyzer import calculate_kmo\n",
    "\n"
   ]
  },
  {
   "cell_type": "code",
   "execution_count": 72,
   "id": "a0d10468",
   "metadata": {},
   "outputs": [
    {
     "name": "stdout",
     "output_type": "stream",
     "text": [
      "<class 'pandas.core.frame.DataFrame'>\n",
      "RangeIndex: 2192 entries, 0 to 2191\n",
      "Data columns (total 16 columns):\n",
      " #   Column       Non-Null Count  Dtype         \n",
      "---  ------       --------------  -----         \n",
      " 0   City         2192 non-null   object        \n",
      " 1   Date         2192 non-null   datetime64[ns]\n",
      " 2   PM2.5        2192 non-null   float64       \n",
      " 3   PM10         2192 non-null   float64       \n",
      " 4   NO           2192 non-null   float64       \n",
      " 5   NO2          2192 non-null   float64       \n",
      " 6   Nox          2192 non-null   float64       \n",
      " 7   NH3          2192 non-null   float64       \n",
      " 8   SO2          2192 non-null   float64       \n",
      " 9   CO           2192 non-null   float64       \n",
      " 10  Ozone        2192 non-null   float64       \n",
      " 11  Benzene      2192 non-null   float64       \n",
      " 12  Toluene      2192 non-null   float64       \n",
      " 13  Eth-Benzene  2192 non-null   float64       \n",
      " 14  AQI          2192 non-null   float64       \n",
      " 15  AQI Bucket   2192 non-null   object        \n",
      "dtypes: datetime64[ns](1), float64(13), object(2)\n",
      "memory usage: 274.1+ KB\n"
     ]
    }
   ],
   "source": [
    "AQI = pd.read_excel(r'D:\\project\\Air quality index.xlsx')\n",
    "AQI.info()\n",
    "\n",
    "AQI =AQI.drop(columns=[\"City\",\"Date\",\"AQI Bucket\"])"
   ]
  },
  {
   "cell_type": "code",
   "execution_count": 73,
   "id": "ad7229eb",
   "metadata": {},
   "outputs": [
    {
     "data": {
      "text/html": [
       "<div>\n",
       "<style scoped>\n",
       "    .dataframe tbody tr th:only-of-type {\n",
       "        vertical-align: middle;\n",
       "    }\n",
       "\n",
       "    .dataframe tbody tr th {\n",
       "        vertical-align: top;\n",
       "    }\n",
       "\n",
       "    .dataframe thead th {\n",
       "        text-align: right;\n",
       "    }\n",
       "</style>\n",
       "<table border=\"1\" class=\"dataframe\">\n",
       "  <thead>\n",
       "    <tr style=\"text-align: right;\">\n",
       "      <th></th>\n",
       "      <th>PM2.5</th>\n",
       "      <th>PM10</th>\n",
       "      <th>NO</th>\n",
       "      <th>NO2</th>\n",
       "      <th>Nox</th>\n",
       "      <th>NH3</th>\n",
       "      <th>SO2</th>\n",
       "      <th>CO</th>\n",
       "      <th>Ozone</th>\n",
       "      <th>Benzene</th>\n",
       "      <th>Toluene</th>\n",
       "      <th>Eth-Benzene</th>\n",
       "      <th>AQI</th>\n",
       "    </tr>\n",
       "  </thead>\n",
       "  <tbody>\n",
       "    <tr>\n",
       "      <th>0</th>\n",
       "      <td>95.81</td>\n",
       "      <td>207.39</td>\n",
       "      <td>23.39</td>\n",
       "      <td>31.76</td>\n",
       "      <td>35.90</td>\n",
       "      <td>14.38</td>\n",
       "      <td>31.51</td>\n",
       "      <td>1.23</td>\n",
       "      <td>41.29</td>\n",
       "      <td>0.59</td>\n",
       "      <td>3.82</td>\n",
       "      <td>0.15</td>\n",
       "      <td>207.39</td>\n",
       "    </tr>\n",
       "    <tr>\n",
       "      <th>1</th>\n",
       "      <td>106.89</td>\n",
       "      <td>255.81</td>\n",
       "      <td>22.39</td>\n",
       "      <td>39.09</td>\n",
       "      <td>38.99</td>\n",
       "      <td>16.43</td>\n",
       "      <td>25.55</td>\n",
       "      <td>1.22</td>\n",
       "      <td>42.54</td>\n",
       "      <td>0.67</td>\n",
       "      <td>7.88</td>\n",
       "      <td>0.10</td>\n",
       "      <td>255.81</td>\n",
       "    </tr>\n",
       "    <tr>\n",
       "      <th>2</th>\n",
       "      <td>90.75</td>\n",
       "      <td>196.91</td>\n",
       "      <td>26.64</td>\n",
       "      <td>34.01</td>\n",
       "      <td>38.67</td>\n",
       "      <td>17.06</td>\n",
       "      <td>25.89</td>\n",
       "      <td>1.04</td>\n",
       "      <td>50.06</td>\n",
       "      <td>0.53</td>\n",
       "      <td>7.52</td>\n",
       "      <td>0.11</td>\n",
       "      <td>196.91</td>\n",
       "    </tr>\n",
       "    <tr>\n",
       "      <th>3</th>\n",
       "      <td>87.34</td>\n",
       "      <td>202.62</td>\n",
       "      <td>28.37</td>\n",
       "      <td>32.43</td>\n",
       "      <td>40.31</td>\n",
       "      <td>16.73</td>\n",
       "      <td>26.29</td>\n",
       "      <td>0.98</td>\n",
       "      <td>44.37</td>\n",
       "      <td>0.48</td>\n",
       "      <td>5.98</td>\n",
       "      <td>0.37</td>\n",
       "      <td>202.62</td>\n",
       "    </tr>\n",
       "    <tr>\n",
       "      <th>4</th>\n",
       "      <td>111.32</td>\n",
       "      <td>262.55</td>\n",
       "      <td>27.52</td>\n",
       "      <td>44.69</td>\n",
       "      <td>46.15</td>\n",
       "      <td>20.96</td>\n",
       "      <td>32.39</td>\n",
       "      <td>1.28</td>\n",
       "      <td>39.58</td>\n",
       "      <td>0.61</td>\n",
       "      <td>5.78</td>\n",
       "      <td>0.46</td>\n",
       "      <td>262.55</td>\n",
       "    </tr>\n",
       "    <tr>\n",
       "      <th>...</th>\n",
       "      <td>...</td>\n",
       "      <td>...</td>\n",
       "      <td>...</td>\n",
       "      <td>...</td>\n",
       "      <td>...</td>\n",
       "      <td>...</td>\n",
       "      <td>...</td>\n",
       "      <td>...</td>\n",
       "      <td>...</td>\n",
       "      <td>...</td>\n",
       "      <td>...</td>\n",
       "      <td>...</td>\n",
       "      <td>...</td>\n",
       "    </tr>\n",
       "    <tr>\n",
       "      <th>2187</th>\n",
       "      <td>87.55</td>\n",
       "      <td>172.30</td>\n",
       "      <td>3.19</td>\n",
       "      <td>43.71</td>\n",
       "      <td>25.84</td>\n",
       "      <td>26.59</td>\n",
       "      <td>14.37</td>\n",
       "      <td>1.09</td>\n",
       "      <td>85.12</td>\n",
       "      <td>0.00</td>\n",
       "      <td>0.00</td>\n",
       "      <td>0.00</td>\n",
       "      <td>172.30</td>\n",
       "    </tr>\n",
       "    <tr>\n",
       "      <th>2188</th>\n",
       "      <td>146.29</td>\n",
       "      <td>200.45</td>\n",
       "      <td>3.73</td>\n",
       "      <td>36.46</td>\n",
       "      <td>22.43</td>\n",
       "      <td>35.15</td>\n",
       "      <td>25.89</td>\n",
       "      <td>1.10</td>\n",
       "      <td>73.00</td>\n",
       "      <td>0.00</td>\n",
       "      <td>0.00</td>\n",
       "      <td>0.00</td>\n",
       "      <td>200.45</td>\n",
       "    </tr>\n",
       "    <tr>\n",
       "      <th>2189</th>\n",
       "      <td>117.66</td>\n",
       "      <td>161.16</td>\n",
       "      <td>4.11</td>\n",
       "      <td>37.36</td>\n",
       "      <td>23.22</td>\n",
       "      <td>26.58</td>\n",
       "      <td>20.63</td>\n",
       "      <td>1.00</td>\n",
       "      <td>60.43</td>\n",
       "      <td>0.00</td>\n",
       "      <td>0.00</td>\n",
       "      <td>0.00</td>\n",
       "      <td>161.16</td>\n",
       "    </tr>\n",
       "    <tr>\n",
       "      <th>2190</th>\n",
       "      <td>72.71</td>\n",
       "      <td>109.88</td>\n",
       "      <td>2.82</td>\n",
       "      <td>27.26</td>\n",
       "      <td>16.79</td>\n",
       "      <td>18.35</td>\n",
       "      <td>12.83</td>\n",
       "      <td>0.79</td>\n",
       "      <td>54.44</td>\n",
       "      <td>0.00</td>\n",
       "      <td>0.00</td>\n",
       "      <td>0.00</td>\n",
       "      <td>109.88</td>\n",
       "    </tr>\n",
       "    <tr>\n",
       "      <th>2191</th>\n",
       "      <td>46.75</td>\n",
       "      <td>84.71</td>\n",
       "      <td>3.81</td>\n",
       "      <td>27.84</td>\n",
       "      <td>17.91</td>\n",
       "      <td>14.47</td>\n",
       "      <td>33.05</td>\n",
       "      <td>0.80</td>\n",
       "      <td>45.38</td>\n",
       "      <td>0.00</td>\n",
       "      <td>0.00</td>\n",
       "      <td>0.00</td>\n",
       "      <td>84.71</td>\n",
       "    </tr>\n",
       "  </tbody>\n",
       "</table>\n",
       "<p>2192 rows × 13 columns</p>\n",
       "</div>"
      ],
      "text/plain": [
       "      PM2.5    PM10     NO    NO2     Nox    NH3   SO2    CO   Ozone   \\\n",
       "0      95.81  207.39  23.39  31.76  35.90  14.38  31.51  1.23   41.29   \n",
       "1     106.89  255.81  22.39  39.09  38.99  16.43  25.55  1.22   42.54   \n",
       "2      90.75  196.91  26.64  34.01  38.67  17.06  25.89  1.04   50.06   \n",
       "3      87.34  202.62  28.37  32.43  40.31  16.73  26.29  0.98   44.37   \n",
       "4     111.32  262.55  27.52  44.69  46.15  20.96  32.39  1.28   39.58   \n",
       "...      ...     ...    ...    ...    ...    ...    ...   ...     ...   \n",
       "2187   87.55  172.30   3.19  43.71  25.84  26.59  14.37  1.09   85.12   \n",
       "2188  146.29  200.45   3.73  36.46  22.43  35.15  25.89  1.10   73.00   \n",
       "2189  117.66  161.16   4.11  37.36  23.22  26.58  20.63  1.00   60.43   \n",
       "2190   72.71  109.88   2.82  27.26  16.79  18.35  12.83  0.79   54.44   \n",
       "2191   46.75   84.71   3.81  27.84  17.91  14.47  33.05  0.80   45.38   \n",
       "\n",
       "      Benzene  Toluene  Eth-Benzene     AQI  \n",
       "0        0.59     3.82         0.15  207.39  \n",
       "1        0.67     7.88         0.10  255.81  \n",
       "2        0.53     7.52         0.11  196.91  \n",
       "3        0.48     5.98         0.37  202.62  \n",
       "4        0.61     5.78         0.46  262.55  \n",
       "...       ...      ...          ...     ...  \n",
       "2187     0.00     0.00         0.00  172.30  \n",
       "2188     0.00     0.00         0.00  200.45  \n",
       "2189     0.00     0.00         0.00  161.16  \n",
       "2190     0.00     0.00         0.00  109.88  \n",
       "2191     0.00     0.00         0.00   84.71  \n",
       "\n",
       "[2192 rows x 13 columns]"
      ]
     },
     "execution_count": 73,
     "metadata": {},
     "output_type": "execute_result"
    }
   ],
   "source": [
    "AQI"
   ]
  },
  {
   "cell_type": "code",
   "execution_count": 75,
   "id": "19874a4e",
   "metadata": {},
   "outputs": [
    {
     "name": "stdout",
     "output_type": "stream",
     "text": [
      "<class 'pandas.core.frame.DataFrame'>\n",
      "RangeIndex: 2192 entries, 0 to 2191\n",
      "Data columns (total 13 columns):\n",
      " #   Column       Non-Null Count  Dtype  \n",
      "---  ------       --------------  -----  \n",
      " 0   PM2.5        2192 non-null   float64\n",
      " 1   PM10         2192 non-null   float64\n",
      " 2   NO           2192 non-null   float64\n",
      " 3   NO2          2192 non-null   float64\n",
      " 4   Nox          2192 non-null   float64\n",
      " 5   NH3          2192 non-null   float64\n",
      " 6   SO2          2192 non-null   float64\n",
      " 7   CO           2192 non-null   float64\n",
      " 8   Ozone        2192 non-null   float64\n",
      " 9   Benzene      2192 non-null   float64\n",
      " 10  Toluene      2192 non-null   float64\n",
      " 11  Eth-Benzene  2192 non-null   float64\n",
      " 12  AQI          2192 non-null   float64\n",
      "dtypes: float64(13)\n",
      "memory usage: 222.8 KB\n"
     ]
    }
   ],
   "source": [
    "AQI.info()"
   ]
  },
  {
   "cell_type": "code",
   "execution_count": 77,
   "id": "845d7c0e",
   "metadata": {},
   "outputs": [
    {
     "name": "stdout",
     "output_type": "stream",
     "text": [
      "20920.515799007513 0.0\n"
     ]
    }
   ],
   "source": [
    "chi_square_value,p_value=calculate_bartlett_sphericity(AQI)\n",
    "print(chi_square_value, p_value)"
   ]
  },
  {
   "cell_type": "code",
   "execution_count": 78,
   "id": "c17cda2b",
   "metadata": {},
   "outputs": [
    {
     "data": {
      "text/plain": [
       "FactorAnalyzer(rotation=None, rotation_kwargs={})"
      ]
     },
     "execution_count": 78,
     "metadata": {},
     "output_type": "execute_result"
    }
   ],
   "source": [
    "Fa= FactorAnalyzer(10,rotation=None)\n",
    "Fa.fit(AQI)\n",
    "FactorAnalyzer(bounds=(0.005, 1), impute='median', is_corr_matrix=False,\n",
    "               method='minres', n_factors=3, rotation=None, rotation_kwargs={},\n",
    "               use_smc=True)\n"
   ]
  },
  {
   "cell_type": "code",
   "execution_count": 45,
   "id": "48531f0d",
   "metadata": {},
   "outputs": [
    {
     "data": {
      "text/plain": [
       "array([5.09338386, 2.44896384, 1.0157341 , 0.8951959 , 0.79872014,\n",
       "       0.71127387, 0.59635237, 0.54431889, 0.41024285, 0.22437605,\n",
       "       0.12407272, 0.11088525, 0.02648014])"
      ]
     },
     "execution_count": 45,
     "metadata": {},
     "output_type": "execute_result"
    }
   ],
   "source": [
    "ev, v = Fa.get_eigenvalues()\n",
    "ev"
   ]
  },
  {
   "cell_type": "code",
   "execution_count": 46,
   "id": "209f892c",
   "metadata": {},
   "outputs": [
    {
     "data": {
      "image/png": "[encoded data removed]",
      "text/plain": [
       "<Figure size 432x288 with 1 Axes>"
      ]
     },
     "metadata": {
      "needs_background": "light"
     },
     "output_type": "display_data"
    }
   ],
   "source": [
    "plt.scatter(range(1,AQI.shape[1]+1),ev)\n",
    "plt.plot(range(1,AQI.shape[1]+1),ev)\n",
    "plt.title('Scree Plot')\n",
    "plt.xlabel('Factors')\n",
    "plt.ylabel('Eigenvalue')\n",
    "plt.grid()\n",
    "plt.show()"
   ]
  },
  {
   "cell_type": "code",
   "execution_count": 47,
   "id": "be584592",
   "metadata": {},
   "outputs": [],
   "source": [
    "#here we can see that we have only 3 factors value greater than 1 so we choose 3 factors\n"
   ]
  },
  {
   "cell_type": "code",
   "execution_count": 49,
   "id": "c0b5ae5f",
   "metadata": {},
   "outputs": [
    {
     "data": {
      "text/plain": [
       "array([[-0.21883017,  0.48562162,  0.23931923],\n",
       "       [ 0.12877785, -0.01894186,  0.93075302],\n",
       "       [ 0.09715341,  0.6894333 , -0.12183096],\n",
       "       [ 0.04469816,  0.83791088, -0.00539864],\n",
       "       [ 0.21865276,  0.83424182, -0.01888223],\n",
       "       [ 0.06676335,  0.3182928 ,  0.08360593],\n",
       "       [ 0.21409501,  0.09640851,  0.26693129],\n",
       "       [-0.19115716,  0.58727111,  0.02505325],\n",
       "       [-0.35662989, -0.02200206,  0.33708849],\n",
       "       [ 0.81488018,  0.02354798,  0.2127465 ],\n",
       "       [ 0.92094507, -0.09080356,  0.07885437],\n",
       "       [ 0.87308853,  0.04141302, -0.01866607],\n",
       "       [ 0.02002259,  0.07618598,  0.94958735]])"
      ]
     },
     "execution_count": 49,
     "metadata": {},
     "output_type": "execute_result"
    }
   ],
   "source": [
    "a = FactorAnalyzer(3, rotation=\"varimax\", method='minres', use_smc=True)\n",
    "fa.fit(AQI)\n",
    "\n",
    "FactorAnalyzer(bounds=(0.005, 1), impute='median', is_corr_matrix=False,\n",
    "               method='minres', n_factors=3, rotation='varimax',\n",
    "               rotation_kwargs={}, use_smc=True)\n",
    "\n",
    "fa.loadings_"
   ]
  },
  {
   "cell_type": "code",
   "execution_count": 51,
   "id": "cb7b81d4",
   "metadata": {},
   "outputs": [
    {
     "name": "stdout",
     "output_type": "stream",
     "text": [
      "Factor Loadings \n",
      "             Factor 1  Factor 2  Factor 3\n",
      "PM2.5       -0.218830  0.485622  0.239319\n",
      "PM10         0.128778 -0.018942  0.930753\n",
      "NO           0.097153  0.689433 -0.121831\n",
      "NO2          0.044698  0.837911 -0.005399\n",
      "Nox          0.218653  0.834242 -0.018882\n",
      "NH3          0.066763  0.318293  0.083606\n",
      "SO2          0.214095  0.096409  0.266931\n",
      "CO          -0.191157  0.587271  0.025053\n",
      "Ozone       -0.356630 -0.022002  0.337088\n",
      "Benzene      0.814880  0.023548  0.212746\n",
      "Toluene      0.920945 -0.090804  0.078854\n",
      "Eth-Benzene  0.873089  0.041413 -0.018666\n",
      "AQI          0.020023  0.076186  0.949587\n"
     ]
    }
   ],
   "source": [
    "loadings = pd.DataFrame(fa.loadings_, columns=['Factor 1', 'Factor 2', 'Factor 3', ], index=AQI.columns)\n",
    "print('Factor Loadings \\n%s' %loadings)"
   ]
  },
  {
   "cell_type": "code",
   "execution_count": 54,
   "id": "baf45e14",
   "metadata": {},
   "outputs": [
    {
     "data": {
      "image/png": "[encoded data removed]",
      "text/plain": [
       "<Figure size 432x288 with 2 Axes>"
      ]
     },
     "metadata": {
      "needs_background": "light"
     },
     "output_type": "display_data"
    }
   ],
   "source": [
    "Z=np.abs(loadings)\n",
    "fig, ax = plt.subplots()\n",
    "c = ax.pcolor(Z)\n",
    "fig.colorbar(c, ax=ax)\n",
    "ax.set_yticks(np.arange(fa.loadings_.shape[0])+0.5, minor=False)\n",
    "ax.set_xticks(np.arange(fa.loadings_.shape[1])+0.5, minor=False)\n",
    "\n",
    "plt.show()"
   ]
  },
  {
   "cell_type": "code",
   "execution_count": 61,
   "id": "a5723e72",
   "metadata": {},
   "outputs": [
    {
     "name": "stdout",
     "output_type": "stream",
     "text": [
      "                    0         1         2\n",
      "PM2.5       -0.218830  0.485622  0.239319\n",
      "PM10         0.128778 -0.018942  0.930753\n",
      "NO           0.097153  0.689433 -0.121831\n",
      "NO2          0.044698  0.837911 -0.005399\n",
      "Nox          0.218653  0.834242 -0.018882\n",
      "NH3          0.066763  0.318293  0.083606\n",
      "SO2          0.214095  0.096409  0.266931\n",
      "CO          -0.191157  0.587271  0.025053\n",
      "Ozone       -0.356630 -0.022002  0.337088\n",
      "Benzene      0.814880  0.023548  0.212746\n",
      "Toluene      0.920945 -0.090804  0.078854\n",
      "Eth-Benzene  0.873089  0.041413 -0.018666\n",
      "AQI          0.020023  0.076186  0.949587\n"
     ]
    }
   ],
   "source": [
    "print(pd.DataFrame(fa.loadings_,index=AQI.columns))"
   ]
  },
  {
   "cell_type": "code",
   "execution_count": null,
   "id": "47a809b1",
   "metadata": {},
   "outputs": [],
   "source": [
    "predictions.to_excel('D:\\project\\Air quality index resultp.xlsx')"
   ]
  },
  {
   "cell_type": "code",
   "execution_count": 62,
   "id": "83ecd5fe",
   "metadata": {},
   "outputs": [
    {
     "name": "stdout",
     "output_type": "stream",
     "text": [
      "                         0         1         2\n",
      "Variance          2.612590  2.581855  2.084846\n",
      "Proportional Var  0.200968  0.198604  0.160373\n",
      "Cumulative Var    0.200968  0.399573  0.559945\n"
     ]
    }
   ],
   "source": [
    "print(pd.DataFrame(fa.get_factor_variance(),index=['Variance','Proportional Var','Cumulative Var']))"
   ]
  },
  {
   "cell_type": "code",
   "execution_count": null,
   "id": "49855151",
   "metadata": {},
   "outputs": [],
   "source": []
  },
  {
   "cell_type": "code",
   "execution_count": null,
   "id": "9141c9a5",
   "metadata": {},
   "outputs": [],
   "source": []
  }
 ],
 "metadata": {
  "kernelspec": {
   "display_name": "Python 3",
   "language": "python",
   "name": "python3"
  },
  "language_info": {
   "codemirror_mode": {
    "name": "ipython",
    "version": 3
   },
   "file_extension": ".py",
   "mimetype": "text/x-python",
   "name": "python",
   "nbconvert_exporter": "python",
   "pygments_lexer": "ipython3",
   "version": "3.8.8"
  }
 },
 "nbformat": 4,
 "nbformat_minor": 5
}
